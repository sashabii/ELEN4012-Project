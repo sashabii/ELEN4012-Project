{
 "cells": [
  {
   "cell_type": "code",
   "execution_count": 3,
   "metadata": {},
   "outputs": [],
   "source": [
    "\n",
    "import sys\n",
    "import numpy as np\n",
    "from scipy.fftpack import dct\n",
    "import scipy.io.wavfile\n",
    "from scipy.io.wavfile import read\n",
    "import time\n",
    "import matplotlib.pyplot as plt\n",
    "import matplotlib.cm as cm\n",
    "import matplotlib as mpl\n",
    "import librosa\n",
    "import librosa.display\n",
    "import wave\n",
    "import warnings\n",
    "warnings.simplefilter(\"ignore\", DeprecationWarning)\n",
    "from __future__ import print_function, division, unicode_literals\n",
    "\n"
   ]
  },
  {
   "cell_type": "code",
   "execution_count": 4,
   "metadata": {},
   "outputs": [
    {
     "data": {
      "image/png": "[encoded data removed]",
      "text/plain": [
       "<Figure size 432x288 with 1 Axes>"
      ]
     },
     "metadata": {},
     "output_type": "display_data"
    }
   ],
   "source": [
    "# Created input file with:\n",
    "# mpg123  -w 20130509talk.wav 20130509talk.mp3\n",
    "wr = wave.open('C:\\\\Users\\\\Prashant Prakash\\\\Desktop\\\\so\\\\speech1.wav', 'r')\n",
    "par = list(wr.getparams()) # Get the parameters from the input.\n",
    "# This file is stereo, 2 bytes/sample, 44.1 kHz.\n",
    "par[3] = 0 # The number of samples will be set by writeframes.\n",
    "signal = wr.readframes(-1)\n",
    "signal = np.fromstring(signal, 'Int16')\n",
    "plt.figure(1)\n",
    "plt.title('Signal Input Wave')\n",
    "plt.plot(signal)\n",
    "plt.show()\n",
    "# Open the output file\n",
    "\n"
   ]
  },
  {
   "cell_type": "code",
   "execution_count": 8,
   "metadata": {
    "scrolled": true
   },
   "outputs": [
    {
     "name": "stdout",
     "output_type": "stream",
     "text": [
      "Processing 1/2 s\n"
     ]
    },
    {
     "ename": "ValueError",
     "evalue": "Invalid number of FFT data points (0) specified.",
     "output_type": "error",
     "traceback": [
      "\u001b[1;31m---------------------------------------------------------------------------\u001b[0m",
      "\u001b[1;31mValueError\u001b[0m                                Traceback (most recent call last)",
      "\u001b[1;32m<ipython-input-8-12e94d1af002>\u001b[0m in \u001b[0;36m<module>\u001b[1;34m()\u001b[0m\n\u001b[0;32m     10\u001b[0m     \u001b[0mda\u001b[0m \u001b[1;33m=\u001b[0m \u001b[0mnp\u001b[0m\u001b[1;33m.\u001b[0m\u001b[0mfromstring\u001b[0m\u001b[1;33m(\u001b[0m\u001b[0mwr\u001b[0m\u001b[1;33m.\u001b[0m\u001b[0mreadframes\u001b[0m\u001b[1;33m(\u001b[0m\u001b[0msz\u001b[0m\u001b[1;33m)\u001b[0m\u001b[1;33m,\u001b[0m \u001b[0mdtype\u001b[0m\u001b[1;33m=\u001b[0m\u001b[0mnp\u001b[0m\u001b[1;33m.\u001b[0m\u001b[0mint16\u001b[0m\u001b[1;33m)\u001b[0m\u001b[1;33m\u001b[0m\u001b[0m\n\u001b[0;32m     11\u001b[0m     \u001b[0mleft\u001b[0m\u001b[1;33m,\u001b[0m \u001b[0mright\u001b[0m \u001b[1;33m=\u001b[0m \u001b[0mda\u001b[0m\u001b[1;33m[\u001b[0m\u001b[1;36m0\u001b[0m\u001b[1;33m:\u001b[0m\u001b[1;33m:\u001b[0m\u001b[1;36m1\u001b[0m\u001b[1;33m]\u001b[0m\u001b[1;33m,\u001b[0m \u001b[0mda\u001b[0m\u001b[1;33m[\u001b[0m\u001b[1;36m1\u001b[0m\u001b[1;33m:\u001b[0m\u001b[1;33m:\u001b[0m\u001b[1;36m2\u001b[0m\u001b[1;33m]\u001b[0m \u001b[1;31m# left and right channel\u001b[0m\u001b[1;33m\u001b[0m\u001b[0m\n\u001b[1;32m---> 12\u001b[1;33m     \u001b[0mlf\u001b[0m\u001b[1;33m,\u001b[0m \u001b[0mrf\u001b[0m \u001b[1;33m=\u001b[0m \u001b[0mnp\u001b[0m\u001b[1;33m.\u001b[0m\u001b[0mfft\u001b[0m\u001b[1;33m.\u001b[0m\u001b[0mrfft\u001b[0m\u001b[1;33m(\u001b[0m\u001b[0mleft\u001b[0m\u001b[1;33m)\u001b[0m\u001b[1;33m,\u001b[0m \u001b[0mnp\u001b[0m\u001b[1;33m.\u001b[0m\u001b[0mfft\u001b[0m\u001b[1;33m.\u001b[0m\u001b[0mrfft\u001b[0m\u001b[1;33m(\u001b[0m\u001b[0mright\u001b[0m\u001b[1;33m)\u001b[0m\u001b[1;33m\u001b[0m\u001b[0m\n\u001b[0m\u001b[0;32m     13\u001b[0m     \u001b[0mlf\u001b[0m\u001b[1;33m[\u001b[0m\u001b[1;33m:\u001b[0m\u001b[0mlowpass\u001b[0m\u001b[1;33m]\u001b[0m\u001b[1;33m,\u001b[0m \u001b[0mrf\u001b[0m\u001b[1;33m[\u001b[0m\u001b[1;33m:\u001b[0m\u001b[0mlowpass\u001b[0m\u001b[1;33m]\u001b[0m \u001b[1;33m=\u001b[0m \u001b[1;36m0\u001b[0m\u001b[1;33m,\u001b[0m\u001b[1;36m0\u001b[0m \u001b[1;31m# low pass filter\u001b[0m\u001b[1;33m\u001b[0m\u001b[0m\n\u001b[0;32m     14\u001b[0m     \u001b[0mlf\u001b[0m\u001b[1;33m[\u001b[0m\u001b[1;36m55\u001b[0m\u001b[1;33m:\u001b[0m\u001b[1;36m66\u001b[0m\u001b[1;33m]\u001b[0m\u001b[1;33m,\u001b[0m \u001b[0mrf\u001b[0m\u001b[1;33m[\u001b[0m\u001b[1;36m55\u001b[0m\u001b[1;33m:\u001b[0m\u001b[1;36m66\u001b[0m\u001b[1;33m]\u001b[0m \u001b[1;33m=\u001b[0m \u001b[1;36m0\u001b[0m\u001b[1;33m,\u001b[0m\u001b[1;36m0\u001b[0m \u001b[1;31m# line noise\u001b[0m\u001b[1;33m\u001b[0m\u001b[0m\n",
      "\u001b[1;32mc:\\users\\prashant prakash\\appdata\\local\\programs\\python\\python35\\lib\\site-packages\\numpy\\fft\\fftpack.py\u001b[0m in \u001b[0;36mrfft\u001b[1;34m(a, n, axis, norm)\u001b[0m\n\u001b[0;32m    370\u001b[0m     \u001b[0ma\u001b[0m \u001b[1;33m=\u001b[0m \u001b[0marray\u001b[0m\u001b[1;33m(\u001b[0m\u001b[0ma\u001b[0m\u001b[1;33m,\u001b[0m \u001b[0mcopy\u001b[0m\u001b[1;33m=\u001b[0m\u001b[1;32mTrue\u001b[0m\u001b[1;33m,\u001b[0m \u001b[0mdtype\u001b[0m\u001b[1;33m=\u001b[0m\u001b[0mfloat\u001b[0m\u001b[1;33m)\u001b[0m\u001b[1;33m\u001b[0m\u001b[0m\n\u001b[0;32m    371\u001b[0m     output = _raw_fft(a, n, axis, fftpack.rffti, fftpack.rfftf,\n\u001b[1;32m--> 372\u001b[1;33m                       _real_fft_cache)\n\u001b[0m\u001b[0;32m    373\u001b[0m     \u001b[1;32mif\u001b[0m \u001b[0m_unitary\u001b[0m\u001b[1;33m(\u001b[0m\u001b[0mnorm\u001b[0m\u001b[1;33m)\u001b[0m\u001b[1;33m:\u001b[0m\u001b[1;33m\u001b[0m\u001b[0m\n\u001b[0;32m    374\u001b[0m         \u001b[1;32mif\u001b[0m \u001b[0mn\u001b[0m \u001b[1;32mis\u001b[0m \u001b[1;32mNone\u001b[0m\u001b[1;33m:\u001b[0m\u001b[1;33m\u001b[0m\u001b[0m\n",
      "\u001b[1;32mc:\\users\\prashant prakash\\appdata\\local\\programs\\python\\python35\\lib\\site-packages\\numpy\\fft\\fftpack.py\u001b[0m in \u001b[0;36m_raw_fft\u001b[1;34m(a, n, axis, init_function, work_function, fft_cache)\u001b[0m\n\u001b[0;32m     54\u001b[0m     \u001b[1;32mif\u001b[0m \u001b[0mn\u001b[0m \u001b[1;33m<\u001b[0m \u001b[1;36m1\u001b[0m\u001b[1;33m:\u001b[0m\u001b[1;33m\u001b[0m\u001b[0m\n\u001b[0;32m     55\u001b[0m         raise ValueError(\"Invalid number of FFT data points (%d) specified.\"\n\u001b[1;32m---> 56\u001b[1;33m                          % n)\n\u001b[0m\u001b[0;32m     57\u001b[0m \u001b[1;33m\u001b[0m\u001b[0m\n\u001b[0;32m     58\u001b[0m     \u001b[1;31m# We have to ensure that only a single thread can access a wsave array\u001b[0m\u001b[1;33m\u001b[0m\u001b[1;33m\u001b[0m\u001b[0m\n",
      "\u001b[1;31mValueError\u001b[0m: Invalid number of FFT data points (0) specified."
     ]
    }
   ],
   "source": [
    "ww = wave.open('filtered-talk.wav', 'w')\n",
    "ww.setparams(tuple(par)) # Use the same parameters as the input file.\n",
    "lowpass = 21 # Remove lower frequencies.\n",
    "highpass = 9000 # Remove higher frequencies.\n",
    "\n",
    "sz = wr.getframerate()# Read and process 1 second at a time.\n",
    "c = int(wr.getnframes()/sz) # whole file\n",
    "for num in range(c):\n",
    "    print('Processing {}/{} s'.format(num+1, c))\n",
    "    da = np.fromstring(wr.readframes(sz), dtype=np.int16)\n",
    "    left, right = da[0::1], da[1::2] # left and right channel\n",
    "    lf, rf = np.fft.rfft(left), np.fft.rfft(right)\n",
    "    lf[:lowpass], rf[:lowpass] = 0,0 # low pass filter\n",
    "    lf[55:66], rf[55:66] = 0,0 # line noise\n",
    "    lf[highpass:], rf[highpass:] = 0,0 # high pass filter\n",
    "    nl, nr = np.fft.irfft(lf), np.fft.irfft(rf)\n",
    "    ns = np.column_stack((nl,nr)).ravel().astype(np.int16)\n",
    "    ww.writeframes(ns.tostring())\n",
    "    \n",
    "    # Close the files.\n",
    "wr.close()\n",
    "ww.close()\n",
    "\n",
    "\n",
    "#ww1 = wave.open('C:\\\\Users\\\\Prashant Prakash\\\\Desktop\\\\filtered-talk.wav', 'r')\n",
    "#par1 = list(ww1.getparams()) # Get the parameters from the input.\n",
    "# This file is stereo, 2 bytes/sample, 44.1 kHz.\n",
    "#par1[3] = 0 # The number of samples will be set by writeframes.\n",
    "#signal1 = ww1.readframes(-1)\n",
    "#signal1 = np.fromstring(signal1, 'Int16')\n",
    "#plt.figure(1)\n",
    "#plt.title('Signal Output Wave')\n",
    "#plt.plot(signal1)\n",
    "#plt.show()\n",
    "#ww1.close()\n",
    "\n",
    "\n",
    "# read audio samples\n",
    "input_data = read('C:\\\\Users\\\\Prashant Prakash\\\\Desktop\\\\filtered-talk.wav')\n",
    "audio = input_data[1]\n",
    "# plot the first 1024 samples\n",
    "plt.plot(audio[0:1024])\n",
    "# label the axes\n",
    "plt.ylabel(\"Amplitude\")\n",
    "plt.xlabel(\"Time\")\n",
    "# set the title  \n",
    "plt.title(\"Sample Wav\")\n",
    "# display the plot\n",
    "plt.show()"
   ]
  },
  {
   "cell_type": "code",
   "execution_count": null,
   "metadata": {},
   "outputs": [],
   "source": []
  }
 ],
 "metadata": {
  "kernelspec": {
   "display_name": "Python 3",
   "language": "python",
   "name": "python3"
  },
  "language_info": {
   "codemirror_mode": {
    "name": "ipython",
    "version": 3
   },
   "file_extension": ".py",
   "mimetype": "text/x-python",
   "name": "python",
   "nbconvert_exporter": "python",
   "pygments_lexer": "ipython3",
   "version": "3.5.0"
  }
 },
 "nbformat": 4,
 "nbformat_minor": 2
}
